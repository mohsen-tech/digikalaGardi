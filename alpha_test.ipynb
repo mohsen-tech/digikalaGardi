{
 "cells": [
  {
   "cell_type": "code",
   "execution_count": null,
   "metadata": {},
   "outputs": [],
   "source": [
    "import numpy as np\n",
    "import pandas as pd\n",
    "import requests\n",
    "from bs4 import BeautifulSoup\n",
    "import sys"
   ]
  },
  {
   "cell_type": "code",
   "execution_count": null,
   "metadata": {},
   "outputs": [],
   "source": [
    "def handle_request(p_url, p_method=\"GET\", p_params=None, p_headers=None):\n",
    "    try:\n",
    "        response = requests.request(\n",
    "            method=p_method,\n",
    "            url=p_url,\n",
    "            params=p_params,\n",
    "            headers=p_headers,\n",
    "        )\n",
    "        # print(response.url)\n",
    "        if response.status_code == 200:\n",
    "            # return response.content\n",
    "            return response.json()\n",
    "        else:\n",
    "            print(response.status_code)\n",
    "            return response.status_code\n",
    "    except:\n",
    "        print(-1)\n",
    "        return -1\n",
    "\n",
    "\n",
    "def extract_info_from_page(json_data):\n",
    "    my_list = []\n",
    "    for data in json_data[\"data\"][\"products\"]:\n",
    "        if data[\"status\"] == \"out_of_stock\":\n",
    "            return False, pd.DataFrame(my_list)\n",
    "        temp = {\n",
    "            \"id\": data[\"id\"],\n",
    "            \"title_en\": data[\"title_en\"],\n",
    "            \"title_fa\": data[\"title_fa\"],\n",
    "            \"price\": data[\"default_variant\"][\"price\"][\"rrp_price\"],\n",
    "            \"selling_price\": data[\"default_variant\"][\"price\"][\"selling_price\"],\n",
    "            # \"order_limit\": data[\"default_variant\"][\"price\"][\"order_limit\"],\n",
    "            # \"marketable_stock\": data[\"default_variant\"][\"price\"][\"marketable_stock\"],\n",
    "            \"discount\": data[\"default_variant\"][\"price\"][\"discount_percent\"],\n",
    "            \"min_price_in_last_month\": data[\"properties\"][\"min_price_in_last_month\"],\n",
    "        }\n",
    "        my_list.append(temp)\n",
    "    return True, pd.DataFrame(my_list)\n",
    "\n",
    "\n",
    "def create_product_df(main_url, params, key_param):\n",
    "    page = 1\n",
    "    final_df = None\n",
    "    while True:\n",
    "        params[key_param] = str(page)\n",
    "        json_data = handle_request(main_url, p_params=params)\n",
    "\n",
    "        progress_completed = f\"page {page} completed.\"\n",
    "        sys.stdout.write(\"\\r\" + progress_completed)\n",
    "        sys.stdout.flush()\n",
    "        page += 1\n",
    "\n",
    "        sw, df = extract_info_from_page(json_data)\n",
    "        final_df = pd.concat([final_df, df], ignore_index=True)\n",
    "        if sw == False:\n",
    "            return final_df"
   ]
  },
  {
   "cell_type": "markdown",
   "metadata": {},
   "source": [
    "## Init Variables"
   ]
  },
  {
   "cell_type": "code",
   "execution_count": null,
   "metadata": {},
   "outputs": [],
   "source": [
    "main_url = \"https://api.digikala.com/v1/categories/\"\n",
    "\n",
    "key_param1 = \"seller_types[0]\"\n",
    "val_param1 = \"digikala\"\n",
    "\n",
    "key_param2 = \"seo_url\"\n",
    "\n",
    "key_param3 = \"page\"\n",
    "val_param3 = \"1\""
   ]
  },
  {
   "cell_type": "markdown",
   "metadata": {},
   "source": [
    "## Phone"
   ]
  },
  {
   "cell_type": "code",
   "execution_count": null,
   "metadata": {},
   "outputs": [],
   "source": [
    "category_url = \"mobile-phone/search/\"\n",
    "val_param2 = \"/category-mobile-phone/product-list/?seller_types%5B0%5D=digikala\"\n",
    "params = {\n",
    "    key_param1: val_param1,\n",
    "    key_param2: val_param2,\n",
    "    key_param3: val_param3,\n",
    "}\n",
    "phone_df = create_product_df(main_url + category_url, params, key_param3)"
   ]
  },
  {
   "cell_type": "code",
   "execution_count": null,
   "metadata": {},
   "outputs": [],
   "source": [
    "phone_df"
   ]
  },
  {
   "cell_type": "markdown",
   "metadata": {},
   "source": [
    "## Laptop"
   ]
  },
  {
   "cell_type": "code",
   "execution_count": null,
   "metadata": {},
   "outputs": [],
   "source": [
    "category_url = \"notebook-netbook-ultrabook/search/\"\n",
    "val_param2 = \"/notebook-netbook-ultrabook/?seller_types%5B0%5D=digikala\"\n",
    "params = {\n",
    "    key_param1: val_param1,\n",
    "    key_param2: val_param2,\n",
    "    key_param3: val_param3,\n",
    "}\n",
    "laptop_df = create_product_df(main_url + category_url, params, key_param3)"
   ]
  },
  {
   "cell_type": "code",
   "execution_count": null,
   "metadata": {},
   "outputs": [],
   "source": [
    "laptop_df"
   ]
  },
  {
   "cell_type": "markdown",
   "metadata": {},
   "source": [
    "## Hint\n",
    "\n",
    "```python\n",
    "data[\"data\"][\"products\"][0][\"id\"]\n",
    "data[\"data\"][\"products\"][0][\"title_en\"]\n",
    "data[\"data\"][\"products\"][0][\"title_fa\"]\n",
    "data[\"data\"][\"products\"][0][\"status\"]\n",
    "data[\"data\"][\"products\"][0][\"default_variant\"][\"price\"]\n",
    "data[\"data\"][\"products\"][0][\"default_variant\"][\"price\"][\"selling_price\"]\n",
    "data[\"data\"][\"products\"][0][\"default_variant\"][\"price\"][\"rrp_price\"]\n",
    "data[\"data\"][\"products\"][0][\"default_variant\"][\"price\"][\"order_limit\"]\n",
    "data[\"data\"][\"products\"][0][\"default_variant\"][\"price\"][\"marketable_stock\"]\n",
    "data[\"data\"][\"products\"][0][\"default_variant\"][\"price\"][\"discount_percent\"]\n",
    "data[\"data\"][\"products\"][0][\"properties\"][\"min_price_in_last_month\"]\n",
    "```"
   ]
  }
 ],
 "metadata": {
  "kernelspec": {
   "display_name": "venv",
   "language": "python",
   "name": "python3"
  },
  "language_info": {
   "codemirror_mode": {
    "name": "ipython",
    "version": 3
   },
   "file_extension": ".py",
   "mimetype": "text/x-python",
   "name": "python",
   "nbconvert_exporter": "python",
   "pygments_lexer": "ipython3",
   "version": "3.9.0"
  }
 },
 "nbformat": 4,
 "nbformat_minor": 2
}
